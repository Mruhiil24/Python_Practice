{
 "cells": [
  {
   "cell_type": "code",
   "execution_count": 7,
   "id": "39dfcb01",
   "metadata": {},
   "outputs": [],
   "source": [
    "def replacechar(s,a,b):\n",
    "    if len(s)==0:\n",
    "        return s\n",
    "    \n",
    "    smalloutput= replacechar(s[1:],a,b)\n",
    "    if s[0]==a:\n",
    "        return b+smalloutput\n",
    "    else:\n",
    "        return s[0]+smalloutput"
   ]
  },
  {
   "cell_type": "code",
   "execution_count": 12,
   "id": "2142e8e6",
   "metadata": {},
   "outputs": [
    {
     "data": {
      "text/plain": [
       "'xx'"
      ]
     },
     "execution_count": 12,
     "metadata": {},
     "output_type": "execute_result"
    }
   ],
   "source": [
    "replacechar(\"cc\", 'c','x')"
   ]
  },
  {
   "cell_type": "code",
   "execution_count": 18,
   "id": "86adc7fd",
   "metadata": {},
   "outputs": [],
   "source": [
    "def replacepi(s):\n",
    "    if len(s)==0 or len(s)==1:\n",
    "        return s\n",
    "    \n",
    "    if s[0]=='p' or s[1]=='i':\n",
    "        smalloutput = replacepi(s[2:])\n",
    "        return \"3.14\" + smalloutput\n",
    "    else:\n",
    "        smalloutput = replacepi(s[1:])\n",
    "        return s[0]+smalloutput"
   ]
  },
  {
   "cell_type": "code",
   "execution_count": 20,
   "id": "2f29ef20",
   "metadata": {},
   "outputs": [
    {
     "data": {
      "text/plain": [
       "'3.14x3.14'"
      ]
     },
     "execution_count": 20,
     "metadata": {},
     "output_type": "execute_result"
    }
   ],
   "source": [
    "replacepi(\"pixpi\")"
   ]
  },
  {
   "cell_type": "markdown",
   "id": "9a8c56b7",
   "metadata": {},
   "source": [
    "### Binary Search "
   ]
  },
  {
   "cell_type": "code",
   "execution_count": 21,
   "id": "e4158555",
   "metadata": {},
   "outputs": [],
   "source": [
    "def binsarysearch(a,x,si,ei):\n",
    "    if si > ei:\n",
    "        return -1\n",
    "    mid = (si+ei)//2\n",
    "    if a[mid]==x:\n",
    "        return mid\n",
    "    elif a[mid] > x:\n",
    "        return binsarysearch(a,x,si,mid-1)\n",
    "    else:\n",
    "        return binsarysearch(a,x,mid+1,ei)"
   ]
  },
  {
   "cell_type": "code",
   "execution_count": 24,
   "id": "c5c912da",
   "metadata": {},
   "outputs": [
    {
     "data": {
      "text/plain": [
       "6"
      ]
     },
     "execution_count": 24,
     "metadata": {},
     "output_type": "execute_result"
    }
   ],
   "source": [
    "binsarysearch([1,3,5,7,9,11,13,15,16,17],13,0,9)"
   ]
  },
  {
   "cell_type": "markdown",
   "id": "fc4161f3",
   "metadata": {},
   "source": [
    "### Merge sort "
   ]
  },
  {
   "cell_type": "code",
   "execution_count": 49,
   "id": "17b3b1a6",
   "metadata": {},
   "outputs": [],
   "source": [
    "def merge(a1,a2,a):\n",
    "    i=0\n",
    "    j=0\n",
    "    k=0\n",
    "    while i<len(a1) and j<len(a2):\n",
    "        if (a1[i]<a2[j]):\n",
    "            a[k]=a1[i]\n",
    "            k=k+1\n",
    "            i=i+1\n",
    "        else:\n",
    "            a[k]=a2[j]\n",
    "            k= k+1\n",
    "            j= j+1        \n",
    "    while i<len(a1):\n",
    "        a[k]=a1[i]\n",
    "        k=k+1\n",
    "        i= i+1\n",
    "    while j<len(a2):\n",
    "        a[k]=a2[j]\n",
    "        k=k+1\n",
    "        j=j+1\n",
    "           \n",
    "                "
   ]
  },
  {
   "cell_type": "code",
   "execution_count": 48,
   "id": "3cee7a8f",
   "metadata": {},
   "outputs": [],
   "source": [
    "def merge_sort(a):\n",
    "    if len(a)==0 or len(a)==1:\n",
    "        return \n",
    "    mid=len(a)//2\n",
    "    a1 = a[0:mid]\n",
    "    a2 = a[mid:]\n",
    "    \n",
    "    merge_sort(a1)\n",
    "    merge_sort(a2)\n",
    "    \n",
    "    merge(a1,a2,a)\n",
    "    \n",
    "    \n",
    "    "
   ]
  },
  {
   "cell_type": "code",
   "execution_count": 52,
   "id": "0c5bbb17",
   "metadata": {},
   "outputs": [
    {
     "data": {
      "text/plain": [
       "[1, 3, 4, 5, 7, 9, 10]"
      ]
     },
     "execution_count": 52,
     "metadata": {},
     "output_type": "execute_result"
    }
   ],
   "source": [
    "a=[10,5,3,1,7,9,4]\n",
    "merge_sort(a)\n",
    "a"
   ]
  },
  {
   "cell_type": "code",
   "execution_count": null,
   "id": "9be6be06",
   "metadata": {},
   "outputs": [],
   "source": []
  }
 ],
 "metadata": {
  "kernelspec": {
   "display_name": "Python 3",
   "language": "python",
   "name": "python3"
  },
  "language_info": {
   "codemirror_mode": {
    "name": "ipython",
    "version": 3
   },
   "file_extension": ".py",
   "mimetype": "text/x-python",
   "name": "python",
   "nbconvert_exporter": "python",
   "pygments_lexer": "ipython3",
   "version": "3.8.8"
  }
 },
 "nbformat": 4,
 "nbformat_minor": 5
}
