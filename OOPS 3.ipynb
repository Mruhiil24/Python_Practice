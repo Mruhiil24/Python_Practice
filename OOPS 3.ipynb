{
 "cells": [
  {
   "cell_type": "code",
   "execution_count": 1,
   "id": "c363d8ce",
   "metadata": {},
   "outputs": [],
   "source": [
    "from abc import ABC,abstractmethod\n",
    "\n",
    "class Automobile(ABC):\n",
    "    \n",
    "    def __init__(self):\n",
    "        print (\"Automobile created\")\n",
    "    @abstractmethod    \n",
    "    def start(self):\n",
    "        pass\n",
    "    @abstractmethod\n",
    "    def stop(self):\n",
    "        pass\n",
    "    @abstractmethod\n",
    "    def drive(self):\n",
    "        pass"
   ]
  },
  {
   "cell_type": "code",
   "execution_count": 13,
   "id": "9865f760",
   "metadata": {},
   "outputs": [],
   "source": [
    "class Car(Automobile):\n",
    "    \n",
    "    def __init__(self,name):\n",
    "        print (\"car created\")\n",
    "        self.name = name\n",
    "     \n",
    "    def start(self):\n",
    "        pass\n",
    "   \n",
    "    def stop(self):\n",
    "        pass\n",
    "    \n",
    "    def drive(self):\n",
    "        pass"
   ]
  },
  {
   "cell_type": "code",
   "execution_count": 15,
   "id": "01409a69",
   "metadata": {},
   "outputs": [
    {
     "name": "stdout",
     "output_type": "stream",
     "text": [
      "car created\n"
     ]
    }
   ],
   "source": [
    "c = Car(\"Honda\")"
   ]
  },
  {
   "cell_type": "code",
   "execution_count": null,
   "id": "cadb7d4c",
   "metadata": {},
   "outputs": [],
   "source": []
  }
 ],
 "metadata": {
  "kernelspec": {
   "display_name": "Python 3",
   "language": "python",
   "name": "python3"
  },
  "language_info": {
   "codemirror_mode": {
    "name": "ipython",
    "version": 3
   },
   "file_extension": ".py",
   "mimetype": "text/x-python",
   "name": "python",
   "nbconvert_exporter": "python",
   "pygments_lexer": "ipython3",
   "version": "3.8.8"
  }
 },
 "nbformat": 4,
 "nbformat_minor": 5
}
