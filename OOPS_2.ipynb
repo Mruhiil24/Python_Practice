{
 "cells": [
  {
   "cell_type": "code",
   "execution_count": 19,
   "id": "4e825f1a",
   "metadata": {},
   "outputs": [],
   "source": [
    "class vehicle:\n",
    "    def __int__(self,color,maxspeed):\n",
    "        self.color=color\n",
    "        self.maxspeed=maxspeed\n",
    "    def getmaxspeed(self):\n",
    "        return self.__maxspeed\n",
    "    def setmaxspeed(self,maxspeed):\n",
    "        self.__maxspeed = maxspeed\n",
    "        \n",
    "class car(vehicle):\n",
    "    def __int__(self,color,maxspeed,numgears,isconvertable):\n",
    "        super().__int__(color,maxspeed)\n",
    "        self.numgears=numgears\n",
    "        self.isconvertable=isconvertable\n",
    "    def printc(self):\n",
    "        print(\"color:\",self.color)\n",
    "        print(\"maxspeed:\",self.getmaxspeed())\n",
    "        print(\"numgears:\",self.numgears)\n",
    "        print(\"isconvertable:\",self.isconvertable)"
   ]
  },
  {
   "cell_type": "code",
   "execution_count": 20,
   "id": "740d28a2",
   "metadata": {},
   "outputs": [
    {
     "ename": "TypeError",
     "evalue": "car() takes no arguments",
     "output_type": "error",
     "traceback": [
      "\u001b[0;31m---------------------------------------------------------------------------\u001b[0m",
      "\u001b[0;31mTypeError\u001b[0m                                 Traceback (most recent call last)",
      "\u001b[0;32m<ipython-input-20-676f7fda4fd4>\u001b[0m in \u001b[0;36m<module>\u001b[0;34m\u001b[0m\n\u001b[0;32m----> 1\u001b[0;31m \u001b[0mc\u001b[0m \u001b[0;34m=\u001b[0m \u001b[0mcar\u001b[0m\u001b[0;34m(\u001b[0m\u001b[0;34m\"red\"\u001b[0m\u001b[0;34m,\u001b[0m\u001b[0;36m15\u001b[0m\u001b[0;34m,\u001b[0m\u001b[0;36m3\u001b[0m\u001b[0;34m,\u001b[0m\u001b[0;32mFalse\u001b[0m\u001b[0;34m)\u001b[0m\u001b[0;34m\u001b[0m\u001b[0;34m\u001b[0m\u001b[0m\n\u001b[0m\u001b[1;32m      2\u001b[0m \u001b[0mc\u001b[0m\u001b[0;34m.\u001b[0m\u001b[0mprint\u001b[0m\u001b[0;34m(\u001b[0m\u001b[0;34m)\u001b[0m\u001b[0;34m\u001b[0m\u001b[0;34m\u001b[0m\u001b[0m\n",
      "\u001b[0;31mTypeError\u001b[0m: car() takes no arguments"
     ]
    }
   ],
   "source": [
    "c = car(\"red\",15,3,False)\n",
    "c.print()"
   ]
  },
  {
   "cell_type": "markdown",
   "id": "bf437318",
   "metadata": {},
   "source": [
    "### overload"
   ]
  },
  {
   "cell_type": "code",
   "execution_count": 2,
   "id": "fd66b437",
   "metadata": {},
   "outputs": [],
   "source": [
    "import math\n",
    "class point:\n",
    "    def __init__(self,x,y):\n",
    "        self.__x=x\n",
    "        self.__y=y\n",
    "        \n",
    "    def __str__(self):\n",
    "        \n",
    "        return \"This point is at (\" + str(self.__x) + \",\" + str(self.__y) + \")\"\n",
    "    \n",
    "    def __add__(self, point_object):\n",
    "        \n",
    "        return point(self.__x+point_object.__x, self.__y+point_object.__y)\n",
    "    \n",
    "    def __lt__(self,point_object):\n",
    "        \n",
    "        return math.sqrt(self.__x**2+self.__y**2)<math.sqrt(point_object.__x**2+point_object.__y**2)\n",
    "    \n",
    "    "
   ]
  },
  {
   "cell_type": "code",
   "execution_count": 4,
   "id": "52fce90e",
   "metadata": {},
   "outputs": [
    {
     "name": "stdout",
     "output_type": "stream",
     "text": [
      "This point is at (4,6)\n",
      "True\n"
     ]
    }
   ],
   "source": [
    "p1=point(1,2)\n",
    "p2=point(3,4)\n",
    "p3 = p1+p2\n",
    "print(p3)\n",
    "print(p1<p2)"
   ]
  },
  {
   "cell_type": "code",
   "execution_count": null,
   "id": "4e541f61",
   "metadata": {},
   "outputs": [],
   "source": []
  }
 ],
 "metadata": {
  "kernelspec": {
   "display_name": "Python 3",
   "language": "python",
   "name": "python3"
  },
  "language_info": {
   "codemirror_mode": {
    "name": "ipython",
    "version": 3
   },
   "file_extension": ".py",
   "mimetype": "text/x-python",
   "name": "python",
   "nbconvert_exporter": "python",
   "pygments_lexer": "ipython3",
   "version": "3.8.8"
  }
 },
 "nbformat": 4,
 "nbformat_minor": 5
}
