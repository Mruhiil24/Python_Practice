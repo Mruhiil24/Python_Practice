{
 "cells": [
  {
   "cell_type": "code",
   "execution_count": 5,
   "id": "c8f8cf9f",
   "metadata": {},
   "outputs": [],
   "source": [
    "class BinaryTreeNode:\n",
    "    def __init__(self,data):\n",
    "        self.data = data\n",
    "        self.left = None\n",
    "        self.right =None"
   ]
  },
  {
   "cell_type": "code",
   "execution_count": 6,
   "id": "c63f04d6",
   "metadata": {},
   "outputs": [],
   "source": [
    "# create a function to print tree\n",
    "def printTree(root):\n",
    "    if root ==None:\n",
    "        return\n",
    "    print(root.data)\n",
    "    printTree(root.left)\n",
    "    printTree(root.right)\n",
    "    "
   ]
  },
  {
   "cell_type": "code",
   "execution_count": 7,
   "id": "c42d1f22",
   "metadata": {},
   "outputs": [],
   "source": [
    "# create a function to print tree\n",
    "def printTreeDeatiled(root):\n",
    "    if root ==None:\n",
    "        return\n",
    "    print(root.data,end = \":\")\n",
    "    if root.left != None:\n",
    "        print('L',root.left.data, end = ',')\n",
    "    if root.right != None:\n",
    "        print('R',root.right.data, end=\" \")\n",
    "    print()\n",
    "    printTreeDeatiled(root.left)\n",
    "    printTreeDeatiled(root.right)\n",
    "    "
   ]
  },
  {
   "cell_type": "code",
   "execution_count": 10,
   "id": "c16ed2ea",
   "metadata": {},
   "outputs": [],
   "source": [
    "import queue\n",
    "def takelevelwiseTreeInput():\n",
    "    q=queue.Queue()\n",
    "    print(\"Enter root\")\n",
    "    rootData = int(input())\n",
    "    if (rootData==-1):\n",
    "        return None\n",
    "    root =  BinaryTreeNode(rootData)\n",
    "    q.put(root)\n",
    "    while (not(q.empty())):\n",
    "        current_node = q.get()\n",
    "        print(\"Enter left child of \", current_node.data)\n",
    "        leftchildData=int(input())\n",
    "        if leftchildData!= -1:\n",
    "            leftchild=BinaryTreeNode(leftchildData)\n",
    "            current_node.left = leftchild\n",
    "            q.put(leftchild)\n",
    "            \n",
    "        print(\"Enter right child of \", current_node.data)\n",
    "        rightchildData=int(input())\n",
    "        if rightchildData!= -1:\n",
    "            rightchild=BinaryTreeNode(rightchildData)\n",
    "            current_node.right = rightchild\n",
    "            q.put(rightchild)\n",
    "            \n",
    "    return root\n"
   ]
  },
  {
   "cell_type": "code",
   "execution_count": null,
   "id": "e605f5a0",
   "metadata": {},
   "outputs": [],
   "source": [
    "def printTreeDeatiled(root): "
   ]
  },
  {
   "cell_type": "code",
   "execution_count": 11,
   "id": "49cb526f",
   "metadata": {},
   "outputs": [
    {
     "name": "stdout",
     "output_type": "stream",
     "text": [
      "Enter root\n",
      "1\n",
      "Enter left child of  1\n",
      "2\n",
      "Enter right child of  1\n",
      "3\n",
      "Enter left child of  2\n",
      "4\n",
      "Enter right child of  2\n",
      "5\n",
      "Enter left child of  3\n",
      "-1\n",
      "Enter right child of  3\n",
      "6\n",
      "Enter left child of  4\n",
      "-1\n",
      "Enter right child of  4\n",
      "-1\n",
      "Enter left child of  5\n",
      "-1\n",
      "Enter right child of  5\n",
      "7\n",
      "Enter left child of  6\n",
      "-1\n",
      "Enter right child of  6\n",
      "-1\n",
      "Enter left child of  7\n",
      "-1\n",
      "Enter right child of  7\n",
      "-1\n",
      "1:L 2,R 3 \n",
      "2:L 4,R 5 \n",
      "4:\n",
      "5:R 7 \n",
      "7:\n",
      "3:R 6 \n",
      "6:\n"
     ]
    }
   ],
   "source": [
    "root = takelevelwiseTreeInput()\n",
    "printTreeDeatiled(root)"
   ]
  },
  {
   "cell_type": "code",
   "execution_count": null,
   "id": "ff6adc29",
   "metadata": {},
   "outputs": [],
   "source": []
  }
 ],
 "metadata": {
  "kernelspec": {
   "display_name": "Python 3",
   "language": "python",
   "name": "python3"
  },
  "language_info": {
   "codemirror_mode": {
    "name": "ipython",
    "version": 3
   },
   "file_extension": ".py",
   "mimetype": "text/x-python",
   "name": "python",
   "nbconvert_exporter": "python",
   "pygments_lexer": "ipython3",
   "version": "3.8.8"
  }
 },
 "nbformat": 4,
 "nbformat_minor": 5
}
