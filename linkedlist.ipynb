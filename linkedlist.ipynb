{
 "cells": [
  {
   "cell_type": "code",
   "execution_count": null,
   "id": "3ea60f25",
   "metadata": {},
   "outputs": [],
   "source": [
    "\n",
    "class Node:\n",
    "    def __init__(self,data):\n",
    "        self.data=data\n",
    "        self.next= None\n",
    "    "
   ]
  },
  {
   "cell_type": "code",
   "execution_count": null,
   "id": "740a3225",
   "metadata": {},
   "outputs": [],
   "source": [
    "def printLL(head):\n",
    "    \n",
    "    while head is not None:\n",
    "        print(str(head.data)+\"->\", end=\"\")\n",
    "        head= head.next\n",
    "    print(\"None\")\n",
    "    return"
   ]
  },
  {
   "cell_type": "code",
   "execution_count": null,
   "id": "4d26c630",
   "metadata": {},
   "outputs": [],
   "source": [
    "def length(head):\n",
    "    count = 0\n",
    "    while head is not  None:\n",
    "        count = count+1\n",
    "        head = head.next\n",
    "        \n",
    "    return count\n",
    "\n",
    "def insertatI(head,i,data):\n",
    "    if i<0 or i> length(head):\n",
    "        return head\n",
    "    \n",
    "    count = 0\n",
    "    prev = None\n",
    "    curr = head\n",
    "    \n",
    "    while count < i:\n",
    "        prev=curr\n",
    "        curr= curr.next\n",
    "        count = count+1\n",
    "        \n",
    "    newnode = Node(data)\n",
    "    if prev is not None:\n",
    "        prev.next=newnode\n",
    "    else:\n",
    "        head = newnode\n",
    "        \n",
    "    newnode.next=curr\n",
    "    \n",
    "    return head\n",
    "    "
   ]
  },
  {
   "cell_type": "code",
   "execution_count": null,
   "id": "d394821d",
   "metadata": {},
   "outputs": [],
   "source": [
    "    \n",
    "def takeinput():\n",
    "    inputlist = [int(ele) for ele in input().split()]\n",
    "    head = None\n",
    "    tail= None\n",
    "    for currdata in inputlist:\n",
    "        if currdata == -1:\n",
    "            break\n",
    "        \n",
    "        newNode= Node(currdata)\n",
    "        if head is None:\n",
    "            head=newNode\n",
    "            tail=newNode\n",
    "            \n",
    "            \n",
    "        else:\n",
    "            #curr = head\n",
    "            #while curr.next is not None:\n",
    "                #curr = curr.next\n",
    "                #curr.next = newNode\n",
    "            tail.next = newNode\n",
    "            tail = newNode\n",
    "                \n",
    "    return head"
   ]
  },
  {
   "cell_type": "code",
   "execution_count": null,
   "id": "6ce2341e",
   "metadata": {},
   "outputs": [],
   "source": [
    "head = takeinput()\n",
    "printLL(head)\n",
    "head=insertatI(head,2,6)\n",
    "printLL(head)\n",
    "head=insertatI(head,0,9)\n",
    "printLL(head)\n",
    "head=insertatI(head,7,10)\n",
    "printLL(head)"
   ]
  },
  {
   "cell_type": "code",
   "execution_count": null,
   "id": "cd9f8904",
   "metadata": {},
   "outputs": [],
   "source": [
    "def reverse1(head):\n",
    "    if head is None or head.next is None:\n",
    "        return head\n",
    "    smallhead = reverse1(head.next)\n",
    "    curr= smallhead\n",
    "    \n",
    "    while curr.next is not None:\n",
    "        curr = curr.next\n",
    "    curr.next = head\n",
    "    head.next = None\n",
    "    return smallhead"
   ]
  },
  {
   "cell_type": "code",
   "execution_count": null,
   "id": "6802da22",
   "metadata": {},
   "outputs": [],
   "source": [
    "def reverse2(head):\n",
    "    \n",
    "    if head is None or head.next is None:\n",
    "        return head,head\n",
    "    \n",
    "    \n",
    "    smallhead,smalltail = reverse2(head.next)\n",
    "    smalltail.next=head\n",
    "    head.next = None\n",
    "    \n",
    "    return smallhead,head\n",
    "    "
   ]
  },
  {
   "cell_type": "code",
   "execution_count": null,
   "id": "81e29218",
   "metadata": {},
   "outputs": [],
   "source": [
    "def reverse3(head):\n",
    "    if head is None or head.next is None:\n",
    "        return head\n",
    "    smallhead=reverse3(head.next)\n",
    "    tail = head.next\n",
    "    tail.next = head\n",
    "    head.next = None\n",
    "    return smallhead"
   ]
  },
  {
   "cell_type": "code",
   "execution_count": 45,
   "id": "c4fe0bb3",
   "metadata": {},
   "outputs": [
    {
     "name": "stdout",
     "output_type": "stream",
     "text": [
      "1 2 3 4 5 -1\n",
      "1->2->3->4->5->None\n",
      "5->4->3->2->1->None\n",
      "1->2->3->4->5->None\n",
      "5->4->3->2->1->None\n"
     ]
    }
   ],
   "source": [
    "head = takeinput()\n",
    "printLL(head)\n",
    "head = reverse1(head)\n",
    "printLL(head)\n",
    "head,tail = reverse2(head)\n",
    "printLL(head)\n",
    "head = reverse3(head)\n",
    "printLL(head)"
   ]
  },
  {
   "cell_type": "code",
   "execution_count": null,
   "id": "7d3cb6f8",
   "metadata": {},
   "outputs": [],
   "source": []
  },
  {
   "cell_type": "code",
   "execution_count": null,
   "id": "ca3f0b92",
   "metadata": {},
   "outputs": [],
   "source": []
  }
 ],
 "metadata": {
  "kernelspec": {
   "display_name": "Python 3",
   "language": "python",
   "name": "python3"
  }
 },
 "nbformat": 4,
 "nbformat_minor": 5
}
