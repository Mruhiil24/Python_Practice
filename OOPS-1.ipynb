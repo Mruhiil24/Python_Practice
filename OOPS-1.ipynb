{
 "cells": [
  {
   "cell_type": "code",
   "execution_count": 2,
   "id": "96f03934",
   "metadata": {},
   "outputs": [],
   "source": [
    "class student:\n",
    "    pass\n",
    "    "
   ]
  },
  {
   "cell_type": "code",
   "execution_count": 13,
   "id": "ebcaefe0",
   "metadata": {},
   "outputs": [],
   "source": [
    "s1= student()\n",
    "s2= student()\n",
    "s3= student()"
   ]
  },
  {
   "cell_type": "code",
   "execution_count": 14,
   "id": "92b3e56b",
   "metadata": {},
   "outputs": [
    {
     "name": "stdout",
     "output_type": "stream",
     "text": [
      "<class '__main__.student'>\n",
      "<__main__.student object at 0x7fb2c93ce2b0> <__main__.student object at 0x7fb3002e5730>\n"
     ]
    }
   ],
   "source": [
    "print(type(s1))\n",
    "print(s2,s3)"
   ]
  },
  {
   "cell_type": "code",
   "execution_count": 15,
   "id": "e029742c",
   "metadata": {},
   "outputs": [],
   "source": [
    "s1.name=\"moneka\""
   ]
  },
  {
   "cell_type": "code",
   "execution_count": 16,
   "id": "c444430d",
   "metadata": {},
   "outputs": [],
   "source": [
    "s2.rollNumber = 12"
   ]
  },
  {
   "cell_type": "code",
   "execution_count": 17,
   "id": "6d47c37c",
   "metadata": {},
   "outputs": [],
   "source": [
    "s3.name=\"rohan\""
   ]
  },
  {
   "cell_type": "code",
   "execution_count": 19,
   "id": "7ea52566",
   "metadata": {},
   "outputs": [
    {
     "data": {
      "text/plain": [
       "'rohan'"
      ]
     },
     "execution_count": 19,
     "metadata": {},
     "output_type": "execute_result"
    }
   ],
   "source": [
    "s3.name"
   ]
  },
  {
   "cell_type": "code",
   "execution_count": 20,
   "id": "0012357e",
   "metadata": {},
   "outputs": [
    {
     "data": {
      "text/plain": [
       "{'name': 'moneka'}"
      ]
     },
     "execution_count": 20,
     "metadata": {},
     "output_type": "execute_result"
    }
   ],
   "source": [
    "s1.__dict__"
   ]
  },
  {
   "cell_type": "code",
   "execution_count": 21,
   "id": "537ac520",
   "metadata": {},
   "outputs": [
    {
     "data": {
      "text/plain": [
       "{'rollNumber': 12}"
      ]
     },
     "execution_count": 21,
     "metadata": {},
     "output_type": "execute_result"
    }
   ],
   "source": [
    "s2.__dict__"
   ]
  },
  {
   "cell_type": "code",
   "execution_count": 22,
   "id": "47ed0d64",
   "metadata": {},
   "outputs": [
    {
     "data": {
      "text/plain": [
       "{'name': 'rohan'}"
      ]
     },
     "execution_count": 22,
     "metadata": {},
     "output_type": "execute_result"
    }
   ],
   "source": [
    "s3.__dict__"
   ]
  },
  {
   "cell_type": "code",
   "execution_count": 23,
   "id": "d14b9b7b",
   "metadata": {},
   "outputs": [
    {
     "data": {
      "text/plain": [
       "True"
      ]
     },
     "execution_count": 23,
     "metadata": {},
     "output_type": "execute_result"
    }
   ],
   "source": [
    "hasattr(s1, \"name\")"
   ]
  },
  {
   "cell_type": "code",
   "execution_count": 24,
   "id": "f598d247",
   "metadata": {},
   "outputs": [
    {
     "data": {
      "text/plain": [
       "False"
      ]
     },
     "execution_count": 24,
     "metadata": {},
     "output_type": "execute_result"
    }
   ],
   "source": [
    "hasattr(s2, \"name\")"
   ]
  },
  {
   "cell_type": "code",
   "execution_count": 25,
   "id": "7ba002a5",
   "metadata": {},
   "outputs": [
    {
     "data": {
      "text/plain": [
       "'moneka'"
      ]
     },
     "execution_count": 25,
     "metadata": {},
     "output_type": "execute_result"
    }
   ],
   "source": [
    "getattr(s1, \"name\")"
   ]
  },
  {
   "cell_type": "code",
   "execution_count": 26,
   "id": "b9e98791",
   "metadata": {},
   "outputs": [
    {
     "ename": "AttributeError",
     "evalue": "'student' object has no attribute 'name'",
     "output_type": "error",
     "traceback": [
      "\u001b[0;31m---------------------------------------------------------------------------\u001b[0m",
      "\u001b[0;31mAttributeError\u001b[0m                            Traceback (most recent call last)",
      "\u001b[0;32m<ipython-input-26-f494d8895b4f>\u001b[0m in \u001b[0;36m<module>\u001b[0;34m\u001b[0m\n\u001b[0;32m----> 1\u001b[0;31m \u001b[0mgetattr\u001b[0m\u001b[0;34m(\u001b[0m\u001b[0ms2\u001b[0m\u001b[0;34m,\u001b[0m \u001b[0;34m\"name\"\u001b[0m\u001b[0;34m)\u001b[0m\u001b[0;34m\u001b[0m\u001b[0;34m\u001b[0m\u001b[0m\n\u001b[0m",
      "\u001b[0;31mAttributeError\u001b[0m: 'student' object has no attribute 'name'"
     ]
    }
   ],
   "source": [
    "getattr(s2, \"name\")"
   ]
  },
  {
   "cell_type": "code",
   "execution_count": 27,
   "id": "5367fa8f",
   "metadata": {},
   "outputs": [
    {
     "data": {
      "text/plain": [
       "' '"
      ]
     },
     "execution_count": 27,
     "metadata": {},
     "output_type": "execute_result"
    }
   ],
   "source": [
    "getattr(s2, \"name\",\" \")"
   ]
  },
  {
   "cell_type": "code",
   "execution_count": 28,
   "id": "2ed4402a",
   "metadata": {},
   "outputs": [
    {
     "data": {
      "text/plain": [
       "'moneka'"
      ]
     },
     "execution_count": 28,
     "metadata": {},
     "output_type": "execute_result"
    }
   ],
   "source": [
    "getattr(s1, \"name\",\" \")"
   ]
  },
  {
   "cell_type": "code",
   "execution_count": 29,
   "id": "a71bbe78",
   "metadata": {},
   "outputs": [],
   "source": [
    "delattr(s1, \"name\")"
   ]
  },
  {
   "cell_type": "code",
   "execution_count": 30,
   "id": "08062c1a",
   "metadata": {},
   "outputs": [
    {
     "data": {
      "text/plain": [
       "{}"
      ]
     },
     "execution_count": 30,
     "metadata": {},
     "output_type": "execute_result"
    }
   ],
   "source": [
    "s1.__dict__"
   ]
  },
  {
   "cell_type": "markdown",
   "id": "bfe9b0ee",
   "metadata": {},
   "source": [
    "### Decorator"
   ]
  },
  {
   "cell_type": "code",
   "execution_count": 14,
   "id": "8cf993e9",
   "metadata": {},
   "outputs": [
    {
     "ename": "IndentationError",
     "evalue": "expected an indented block (<ipython-input-14-2214538993ac>, line 2)",
     "output_type": "error",
     "traceback": [
      "\u001b[0;36m  File \u001b[0;32m\"<ipython-input-14-2214538993ac>\"\u001b[0;36m, line \u001b[0;32m2\u001b[0m\n\u001b[0;31m    @staticmethod\u001b[0m\n\u001b[0m    ^\u001b[0m\n\u001b[0;31mIndentationError\u001b[0m\u001b[0;31m:\u001b[0m expected an indented block\n"
     ]
    }
   ],
   "source": [
    "class students:\n",
    "@staticmethod\n",
    "def welcometoschool():\n",
    "    print(\"Hey! welcome To School\")"
   ]
  },
  {
   "cell_type": "code",
   "execution_count": 13,
   "id": "b2de29a4",
   "metadata": {},
   "outputs": [],
   "source": [
    "class students:\n",
    "    \n",
    "    def stdentdetails(self):\n",
    "        self.name=\"moneka\"\n",
    "        print(\"name=\", self.name)\n",
    "        pass"
   ]
  },
  {
   "cell_type": "code",
   "execution_count": 11,
   "id": "a7a70066",
   "metadata": {},
   "outputs": [
    {
     "ename": "TypeError",
     "evalue": "__init__() missing 2 required positional arguments: 'name' and 'rollnumber'",
     "output_type": "error",
     "traceback": [
      "\u001b[0;31m---------------------------------------------------------------------------\u001b[0m",
      "\u001b[0;31mTypeError\u001b[0m                                 Traceback (most recent call last)",
      "\u001b[0;32m<ipython-input-11-9ca767f307fd>\u001b[0m in \u001b[0;36m<module>\u001b[0;34m\u001b[0m\n\u001b[0;32m----> 1\u001b[0;31m \u001b[0ms1\u001b[0m\u001b[0;34m=\u001b[0m \u001b[0mstudents\u001b[0m\u001b[0;34m(\u001b[0m\u001b[0;34m)\u001b[0m\u001b[0;34m\u001b[0m\u001b[0;34m\u001b[0m\u001b[0m\n\u001b[0m\u001b[1;32m      2\u001b[0m \u001b[0mstudents\u001b[0m\u001b[0;34m.\u001b[0m\u001b[0mstdentdetails\u001b[0m\u001b[0;34m(\u001b[0m\u001b[0ms1\u001b[0m\u001b[0;34m)\u001b[0m\u001b[0;34m\u001b[0m\u001b[0;34m\u001b[0m\u001b[0m\n\u001b[1;32m      3\u001b[0m \u001b[0ms1\u001b[0m\u001b[0;34m.\u001b[0m\u001b[0mwelcometoschool\u001b[0m\u001b[0;34m(\u001b[0m\u001b[0;34m)\u001b[0m\u001b[0;34m\u001b[0m\u001b[0;34m\u001b[0m\u001b[0m\n",
      "\u001b[0;31mTypeError\u001b[0m: __init__() missing 2 required positional arguments: 'name' and 'rollnumber'"
     ]
    }
   ],
   "source": [
    "s1= students()\n",
    "students.stdentdetails(s1)\n",
    "students.welcometoschool()"
   ]
  },
  {
   "cell_type": "code",
   "execution_count": 10,
   "id": "39a37d1c",
   "metadata": {},
   "outputs": [
    {
     "ename": "AttributeError",
     "evalue": "'student' object has no attribute 'welcometoschool'",
     "output_type": "error",
     "traceback": [
      "\u001b[0;31m---------------------------------------------------------------------------\u001b[0m",
      "\u001b[0;31mAttributeError\u001b[0m                            Traceback (most recent call last)",
      "\u001b[0;32m<ipython-input-10-53b62ab9389e>\u001b[0m in \u001b[0;36m<module>\u001b[0;34m\u001b[0m\n\u001b[0;32m----> 1\u001b[0;31m \u001b[0ms1\u001b[0m\u001b[0;34m.\u001b[0m\u001b[0mwelcometoschool\u001b[0m\u001b[0;34m(\u001b[0m\u001b[0;34m)\u001b[0m\u001b[0;34m\u001b[0m\u001b[0;34m\u001b[0m\u001b[0m\n\u001b[0m",
      "\u001b[0;31mAttributeError\u001b[0m: 'student' object has no attribute 'welcometoschool'"
     ]
    }
   ],
   "source": [
    "\n",
    "s1.welcometoschool()"
   ]
  },
  {
   "cell_type": "code",
   "execution_count": 5,
   "id": "14a5a2d5",
   "metadata": {},
   "outputs": [],
   "source": [
    "class student:\n",
    "    \n",
    "    def __init__(self,name,rollnumber):\n",
    "        self.name=name\n",
    "        self.rollnumber = rollnumber"
   ]
  },
  {
   "cell_type": "code",
   "execution_count": 6,
   "id": "cd56bb5a",
   "metadata": {},
   "outputs": [],
   "source": [
    "s1=student(\"moneka\",12)"
   ]
  },
  {
   "cell_type": "markdown",
   "id": "56b0bafe",
   "metadata": {},
   "source": []
  },
  {
   "cell_type": "code",
   "execution_count": 7,
   "id": "9618907c",
   "metadata": {},
   "outputs": [
    {
     "data": {
      "text/plain": [
       "{'name': 'moneka', 'rollnumber': 12}"
      ]
     },
     "execution_count": 7,
     "metadata": {},
     "output_type": "execute_result"
    }
   ],
   "source": [
    "s1.__dict__"
   ]
  },
  {
   "cell_type": "code",
   "execution_count": null,
   "id": "e379d84e",
   "metadata": {},
   "outputs": [],
   "source": [
    "@staticmethod\n",
    "def isTeen(age):\n",
    "    return age>16"
   ]
  }
 ],
 "metadata": {
  "kernelspec": {
   "display_name": "Python 3",
   "language": "python",
   "name": "python3"
  },
  "language_info": {
   "codemirror_mode": {
    "name": "ipython",
    "version": 3
   },
   "file_extension": ".py",
   "mimetype": "text/x-python",
   "name": "python",
   "nbconvert_exporter": "python",
   "pygments_lexer": "ipython3",
   "version": "3.8.8"
  }
 },
 "nbformat": 4,
 "nbformat_minor": 5
}
