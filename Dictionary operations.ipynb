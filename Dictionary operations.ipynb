{
 "cells": [
  {
   "cell_type": "markdown",
   "id": "180d809b",
   "metadata": {},
   "source": [
    "### Dictionary\n",
    "\n",
    "Dictionary in Python is an ordered collection of data values, used to store data values like a map,which, unlike other Data Types that hold only a single value as an element, Dictionary holds \n",
    "key:value pair. Key-value is provided in \n",
    "the dictionary to make it more optimized.\n",
    "\n",
    "Dictionary can be created by placing a sequence\n",
    "of elements within curly {} braces, separated\n",
    "by ‘comma’.\n",
    "Values in a dictionary can be of any datatype and can be duplicated, whereas keys can’t be repeated and must be immutable. "
   ]
  },
  {
   "cell_type": "markdown",
   "id": "6c34f0ad",
   "metadata": {},
   "source": [
    "### Adding elements to a Dictionary\n",
    "Dict[Key] = ‘Value’ method\n",
    "update() method"
   ]
  },
  {
   "cell_type": "code",
   "execution_count": 1,
   "id": "f13aa1e8",
   "metadata": {},
   "outputs": [
    {
     "name": "stdout",
     "output_type": "stream",
     "text": [
      "{}\n"
     ]
    }
   ],
   "source": [
    "Dict = {} \n",
    "print(Dict)"
   ]
  },
  {
   "cell_type": "code",
   "execution_count": 2,
   "id": "5fcf6f8e",
   "metadata": {},
   "outputs": [
    {
     "name": "stdout",
     "output_type": "stream",
     "text": [
      "{0: 'Moneka', 2: 'xyz', 3: 1}\n"
     ]
    }
   ],
   "source": [
    "# Adding elements one at a time\n",
    "Dict[0] = 'Moneka'\n",
    "Dict[2] = 'xyz'\n",
    "Dict[3] = 1\n",
    "print(Dict)"
   ]
  },
  {
   "cell_type": "code",
   "execution_count": 3,
   "id": "05605fdf",
   "metadata": {},
   "outputs": [
    {
     "name": "stdout",
     "output_type": "stream",
     "text": [
      "{0: 'Moneka', 2: 'xyz', 3: 1, 'Value_set': (2, 3, 4)}\n"
     ]
    }
   ],
   "source": [
    "# Adding set of values to a single Key\n",
    "Dict['Value_set'] = 2, 3, 4\n",
    "print(Dict)"
   ]
  },
  {
   "cell_type": "code",
   "execution_count": 4,
   "id": "beaaf7fa",
   "metadata": {},
   "outputs": [
    {
     "name": "stdout",
     "output_type": "stream",
     "text": [
      "{0: 'Moneka', 2: 'Welcome', 3: 1, 'Value_set': (2, 3, 4)}\n"
     ]
    }
   ],
   "source": [
    "# Updating existing Key's Value\n",
    "Dict[2] = 'Welcome'\n",
    "print(Dict)"
   ]
  },
  {
   "cell_type": "code",
   "execution_count": 5,
   "id": "156047b9",
   "metadata": {},
   "outputs": [
    {
     "name": "stdout",
     "output_type": "stream",
     "text": [
      "{0: 'Moneka', 2: 'Welcome', 3: 1, 'Value_set': (2, 3, 4), 5: {'Nested': {'1': 'Life', '2': 'Geeks'}}}\n"
     ]
    }
   ],
   "source": [
    "# Adding Nested Key value to Dictionary\n",
    "Dict[5] = {'Nested' :{'1' : 'Life', '2' : 'Geeks'}}\n",
    "print(Dict)"
   ]
  },
  {
   "cell_type": "markdown",
   "id": "418161c8",
   "metadata": {},
   "source": [
    "### find elements from a Dictionary\n",
    "dict refer to its key name.Key can be used inside []\n",
    "get() method"
   ]
  },
  {
   "cell_type": "code",
   "execution_count": 7,
   "id": "78cf59ff",
   "metadata": {},
   "outputs": [
    {
     "name": "stdout",
     "output_type": "stream",
     "text": [
      "abc\n"
     ]
    }
   ],
   "source": [
    "Dict = {1: 'xyz', 'name': 'abc', 3: 'mno'}\n",
    "print(Dict['name'])"
   ]
  },
  {
   "cell_type": "code",
   "execution_count": 8,
   "id": "acc65733",
   "metadata": {},
   "outputs": [
    {
     "name": "stdout",
     "output_type": "stream",
     "text": [
      "xyz\n"
     ]
    }
   ],
   "source": [
    "print(Dict[1])"
   ]
  },
  {
   "cell_type": "code",
   "execution_count": 9,
   "id": "6aa47279",
   "metadata": {},
   "outputs": [
    {
     "name": "stdout",
     "output_type": "stream",
     "text": [
      "mno\n"
     ]
    }
   ],
   "source": [
    "print(Dict.get(3))"
   ]
  },
  {
   "cell_type": "code",
   "execution_count": 10,
   "id": "7373dfa9",
   "metadata": {},
   "outputs": [
    {
     "name": "stdout",
     "output_type": "stream",
     "text": [
      "{1: 'name'}\n",
      "name\n",
      "apple\n"
     ]
    }
   ],
   "source": [
    "#In order to find the value of any key in nested \n",
    "#dictionary, use indexing [] syntax.\n",
    "# Creating a Dictionary\n",
    "Dict = {'Dict1': {1: 'name'},\n",
    "        'Dict2': {'Name': 'apple'}}\n",
    " \n",
    "# Accessing element using key\n",
    "print(Dict['Dict1'])\n",
    "print(Dict['Dict1'][1])\n",
    "print(Dict['Dict2']['Name'])"
   ]
  },
  {
   "cell_type": "markdown",
   "id": "4d10138a",
   "metadata": {},
   "source": [
    "### Removing Elements from Dictionary\n",
    "del dict[]\n",
    "pop() method \n",
    "popitem() method"
   ]
  },
  {
   "cell_type": "code",
   "execution_count": 13,
   "id": "977b83bb",
   "metadata": {},
   "outputs": [
    {
     "name": "stdout",
     "output_type": "stream",
     "text": [
      "xyz\n"
     ]
    }
   ],
   "source": [
    "Dict = {1: 'xyz', 'name': 'abc', 3: 'mno'}\n",
    "pop_ele = Dict.pop(1)\n",
    "print(str(pop_ele))"
   ]
  },
  {
   "cell_type": "code",
   "execution_count": 15,
   "id": "e1ce4b72",
   "metadata": {},
   "outputs": [
    {
     "name": "stdout",
     "output_type": "stream",
     "text": [
      "(3, 'mno')\n"
     ]
    }
   ],
   "source": [
    "Dict = {1: 'xyz', 'name': 'abc', 3: 'mno'}\n",
    "pop_ele = Dict.popitem()\n",
    "print(str(pop_ele))"
   ]
  },
  {
   "cell_type": "code",
   "execution_count": 16,
   "id": "b177379a",
   "metadata": {},
   "outputs": [
    {
     "name": "stdout",
     "output_type": "stream",
     "text": [
      "{}\n"
     ]
    }
   ],
   "source": [
    "Dict = {1: 'xyz', 'name': 'abc', 3: 'mno'}\n",
    "Dict.clear()\n",
    "print(Dict)"
   ]
  },
  {
   "cell_type": "code",
   "execution_count": null,
   "id": "582c394f",
   "metadata": {},
   "outputs": [],
   "source": []
  }
 ],
 "metadata": {
  "kernelspec": {
   "display_name": "Python 3",
   "language": "python",
   "name": "python3"
  },
  "language_info": {
   "codemirror_mode": {
    "name": "ipython",
    "version": 3
   },
   "file_extension": ".py",
   "mimetype": "text/x-python",
   "name": "python",
   "nbconvert_exporter": "python",
   "pygments_lexer": "ipython3",
   "version": "3.8.8"
  }
 },
 "nbformat": 4,
 "nbformat_minor": 5
}
