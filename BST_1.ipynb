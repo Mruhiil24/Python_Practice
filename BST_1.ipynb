{
 "cells": [
  {
   "cell_type": "code",
   "execution_count": 10,
   "id": "a4e0ea3c",
   "metadata": {},
   "outputs": [],
   "source": [
    "# Search Node in BST"
   ]
  },
  {
   "cell_type": "code",
   "execution_count": 8,
   "id": "3a47354f",
   "metadata": {},
   "outputs": [],
   "source": [
    "class BinaryTreeNode:\n",
    "    def __init__(self,data):\n",
    "        self.data = data\n",
    "        self.left = None\n",
    "        self.right =None"
   ]
  },
  {
   "cell_type": "code",
   "execution_count": 9,
   "id": "1126de4f",
   "metadata": {},
   "outputs": [],
   "source": [
    "def SearchNode(root, x):\n",
    "    if root == None:\n",
    "        return False\n",
    "    if root.data==x:\n",
    "        return True\n",
    "    elif root.data >x:\n",
    "        return SearchNode(root.left, x)\n",
    "    else:\n",
    "        return SearchNode(root.right, x)\n",
    "    \n",
    "    "
   ]
  },
  {
   "cell_type": "code",
   "execution_count": 10,
   "id": "fb17e9a2",
   "metadata": {},
   "outputs": [],
   "source": [
    "def printBetweenk1k2(root,k1,k2):\n",
    "    if root == None:\n",
    "        return \n",
    "    if root.data>k2:\n",
    "        printBetweenk1k2(root.left,k1,k2)\n",
    "    elif root.data<k1:\n",
    "        printBetweenk1k2(root.right,k1,k2)\n",
    "    else:\n",
    "        print(root.data)\n",
    "        printBetweenk1k2(root.left,k1,k2)\n",
    "        printBetweenk1k2(root.right,k1,k2)\n",
    "        "
   ]
  },
  {
   "cell_type": "code",
   "execution_count": 11,
   "id": "269832fe",
   "metadata": {},
   "outputs": [],
   "source": [
    "def printTreeDeatiled(root):\n",
    "    if root ==None:\n",
    "        return\n",
    "    print(root.data,end = \":\")\n",
    "    if root.left != None:\n",
    "        print('L',root.left.data, end = ',')\n",
    "    if root.right != None:\n",
    "        print('R',root.right.data, end=\" \")\n",
    "    print()\n",
    "    printTreeDeatiled(root.left)\n",
    "    printTreeDeatiled(root.right)"
   ]
  },
  {
   "cell_type": "code",
   "execution_count": 12,
   "id": "6b7a5dd7",
   "metadata": {},
   "outputs": [],
   "source": [
    "import queue\n",
    "def takelevelwiseTreeInput():\n",
    "    q=queue.Queue()\n",
    "    print(\"Enter root\")\n",
    "    rootData = int(input())\n",
    "    if (rootData==-1):\n",
    "        return None\n",
    "    root =  BinaryTreeNode(rootData)\n",
    "    q.put(root)\n",
    "    while (not(q.empty())):\n",
    "        current_node = q.get()\n",
    "        print(\"Enter left child of \", current_node.data)\n",
    "        leftchildData=int(input())\n",
    "        if leftchildData!= -1:\n",
    "            leftchild=BinaryTreeNode(leftchildData)\n",
    "            current_node.left = leftchild\n",
    "            q.put(leftchild)\n",
    "            \n",
    "        print(\"Enter right child of \", current_node.data)\n",
    "        rightchildData=int(input())\n",
    "        if rightchildData!= -1:\n",
    "            rightchild=BinaryTreeNode(rightchildData)\n",
    "            current_node.right = rightchild\n",
    "            q.put(rightchild)\n",
    "            \n",
    "    return root"
   ]
  },
  {
   "cell_type": "code",
   "execution_count": 13,
   "id": "2d8299d9",
   "metadata": {},
   "outputs": [
    {
     "name": "stdout",
     "output_type": "stream",
     "text": [
      "Enter root\n",
      "1\n",
      "Enter left child of  1\n",
      "-1\n",
      "Enter right child of  1\n",
      "-1\n",
      "1:\n"
     ]
    }
   ],
   "source": [
    "root = takelevelwiseTreeInput()\n",
    "printTreeDeatiled(root)\n"
   ]
  },
  {
   "cell_type": "code",
   "execution_count": 15,
   "id": "c2c4913b",
   "metadata": {},
   "outputs": [],
   "source": [
    "# Check is BST ?\n",
    "def minTree(root):\n",
    "    if root==None:\n",
    "        return 100000\n",
    "    leftmin = minTree(root.left)\n",
    "    rightmin = minTree(root.right)\n",
    "    return min(leftmin,rightmin,root.data)\n"
   ]
  },
  {
   "cell_type": "code",
   "execution_count": 16,
   "id": "eaabe260",
   "metadata": {},
   "outputs": [],
   "source": [
    "def maxTree(root):\n",
    "    if root==None:\n",
    "        return -100000\n",
    "    leftmax = maxTree(root.left)\n",
    "    rightmax = maxTree(root.right)\n",
    "    return max(leftmax,rightmax,root.data)"
   ]
  },
  {
   "cell_type": "code",
   "execution_count": 17,
   "id": "2d46ed62",
   "metadata": {},
   "outputs": [],
   "source": [
    "def IsBST(root):\n",
    "    if  root== None:\n",
    "        return True\n",
    "    leftmax=maxTree(root.left)\n",
    "    rightmin= minTree(root.right)\n",
    "    if root.data >rightmin or root.data<=leftmax:\n",
    "        return False \n",
    "    isleftBST=IsBST(root.left)\n",
    "    isrightBST=IsBST(root.right)\n",
    "    return  isleftBST and isrightBST"
   ]
  },
  {
   "cell_type": "code",
   "execution_count": 23,
   "id": "3674f34f",
   "metadata": {},
   "outputs": [],
   "source": [
    "def IsBST2(root):\n",
    "    if  root== None:\n",
    "        return 100000,-100000, True\n",
    "    \n",
    "    leftmin,leftmax,isleftBST = IsBST2(root.left)\n",
    "    rightmin,rightmax,isrightBST = IsBST2(root.left)\n",
    "    \n",
    "    minimum=min(leftmin,rightmin,root.data)\n",
    "    maximum=max(leftmax,rightmax,root.data)\n",
    "    isTreeBST = True\n",
    "    if root.data<=leftmax or root.data>rightmin:\n",
    "        isTreeBST=False\n",
    "    if not (isleftBST) or not (isrightBST):\n",
    "        isTreeBST=False\n",
    "        \n",
    "    return minimum,maximum,isTreeBST\n",
    "    "
   ]
  },
  {
   "cell_type": "code",
   "execution_count": null,
   "id": "95907693",
   "metadata": {},
   "outputs": [],
   "source": [
    "def isBST3(root,min_range,ma_range):\n",
    "    if root == None:\n",
    "        return True\n",
    "    if root.data<min_range or root.dat > max_range:\n",
    "        return False\n",
    "    \n",
    "    isleft_within_constrainte =isBST3(root.left,min_range,root.data-1)\n",
    "    isright_within_constrainte = isBST3(root.right,root.data,max_range)"
   ]
  },
  {
   "cell_type": "code",
   "execution_count": 25,
   "id": "68c09ccf",
   "metadata": {},
   "outputs": [
    {
     "name": "stdout",
     "output_type": "stream",
     "text": [
      "Enter root\n",
      "4\n",
      "Enter left child of  4\n",
      "2\n",
      "Enter right child of  4\n",
      "6\n",
      "Enter left child of  2\n",
      "1\n",
      "Enter right child of  2\n",
      "3\n",
      "Enter left child of  6\n",
      "5\n",
      "Enter right child of  6\n",
      "7\n",
      "Enter left child of  1\n",
      "-1\n",
      "Enter right child of  1\n",
      "-1\n",
      "Enter left child of  3\n",
      "-1\n",
      "Enter right child of  3\n",
      "-1\n",
      "Enter left child of  5\n",
      "-1\n",
      "Enter right child of  5\n",
      "-1\n",
      "Enter left child of  7\n",
      "-1\n",
      "Enter right child of  7\n",
      "-1\n",
      "4:L 2,R 6 \n",
      "2:L 1,R 3 \n",
      "1:\n",
      "3:\n",
      "6:L 5,R 7 \n",
      "5:\n",
      "7:\n"
     ]
    },
    {
     "data": {
      "text/plain": [
       "(1, 4, False)"
      ]
     },
     "execution_count": 25,
     "metadata": {},
     "output_type": "execute_result"
    }
   ],
   "source": [
    "root = takelevelwiseTreeInput()\n",
    "printTreeDeatiled(root)\n",
    "IsBST2(root)"
   ]
  },
  {
   "cell_type": "code",
   "execution_count": null,
   "id": "10fd371a",
   "metadata": {},
   "outputs": [],
   "source": []
  }
 ],
 "metadata": {
  "kernelspec": {
   "display_name": "Python 3",
   "language": "python",
   "name": "python3"
  },
  "language_info": {
   "codemirror_mode": {
    "name": "ipython",
    "version": 3
   },
   "file_extension": ".py",
   "mimetype": "text/x-python",
   "name": "python",
   "nbconvert_exporter": "python",
   "pygments_lexer": "ipython3",
   "version": "3.8.8"
  }
 },
 "nbformat": 4,
 "nbformat_minor": 5
}
