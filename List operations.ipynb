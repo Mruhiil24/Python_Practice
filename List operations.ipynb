{
 "cells": [
  {
   "cell_type": "markdown",
   "id": "d8c3d099",
   "metadata": {},
   "source": [
    "### add the element\n",
    "append # Add an element to the end of the list\n",
    "extend # Add all elements of a list to the another list\n",
    "insert # add the element given postion "
   ]
  },
  {
   "cell_type": "code",
   "execution_count": 6,
   "id": "1b0ee1ab",
   "metadata": {},
   "outputs": [
    {
     "name": "stdout",
     "output_type": "stream",
     "text": [
      "[2, 3, 6, 5, 4, 9, [10, 22]]\n"
     ]
    }
   ],
   "source": [
    "List = [2,3,6,5,4,9]\n",
    "x = [10,22]\n",
    "List.append(x)#list_name.append(second_list_name)\n",
    "print(List )"
   ]
  },
  {
   "cell_type": "code",
   "execution_count": 7,
   "id": "c9e773e8",
   "metadata": {},
   "outputs": [
    {
     "name": "stdout",
     "output_type": "stream",
     "text": [
      "[2, 3, 6, 5, 4, 9, [10, 22], 10, 22]\n"
     ]
    }
   ],
   "source": [
    "List.extend(x)#list_name.extend(second_list_name)\n",
    "print(List )"
   ]
  },
  {
   "cell_type": "code",
   "execution_count": 13,
   "id": "a57612ec",
   "metadata": {},
   "outputs": [
    {
     "name": "stdout",
     "output_type": "stream",
     "text": [
      "[2, 3, 6, 5, 10, 10, 4, 9, [10, 22], 10, 22, 19, '19', 19]\n"
     ]
    }
   ],
   "source": [
    "List.insert(5, 10) #list_name.insert(index, element)\n",
    "print(List) "
   ]
  },
  {
   "cell_type": "markdown",
   "id": "bf69649e",
   "metadata": {},
   "source": [
    "### Remove the element\n",
    "remove # list_name.remove(obj) \n",
    "pop  # list_name.pop(index)"
   ]
  },
  {
   "cell_type": "code",
   "execution_count": 14,
   "id": "d9a30796",
   "metadata": {},
   "outputs": [
    {
     "name": "stdout",
     "output_type": "stream",
     "text": [
      "[2, 3, 6, 5, 10, 10, 4, 9, 10, 22, 19, '19', 19]\n"
     ]
    }
   ],
   "source": [
    "List.remove(x)# list_name.remove(obj) \n",
    "print(List )"
   ]
  },
  {
   "cell_type": "code",
   "execution_count": 16,
   "id": "8832860b",
   "metadata": {},
   "outputs": [
    {
     "name": "stdout",
     "output_type": "stream",
     "text": [
      "[2, 3, 5, 10, 4, 9, 10, 22, 19, '19', 19]\n"
     ]
    }
   ],
   "source": [
    "List.pop(2)# list_name.pop(index)\n",
    "print(List )"
   ]
  },
  {
   "cell_type": "markdown",
   "id": "28ee5b74",
   "metadata": {},
   "source": [
    "### List Slicing\n",
    "Sytnx:Lst[ Initial : End : IndexJump ]"
   ]
  },
  {
   "cell_type": "code",
   "execution_count": 17,
   "id": "b89b5c42",
   "metadata": {},
   "outputs": [
    {
     "name": "stdout",
     "output_type": "stream",
     "text": [
      "[4, 9, 10, 22, 19, '19', 19]\n"
     ]
    }
   ],
   "source": [
    "print(List[-7::1])"
   ]
  },
  {
   "cell_type": "code",
   "execution_count": null,
   "id": "7e17a987",
   "metadata": {},
   "outputs": [],
   "source": [
    "### Reverse the element of the list\n",
    "Method 1: Using the reversed() built-in function.\n",
    "Method 2: Using the reverse() built-in function.\n",
    "Method 3: Using the slicing technique."
   ]
  },
  {
   "cell_type": "code",
   "execution_count": 18,
   "id": "d4bc0d24",
   "metadata": {},
   "outputs": [
    {
     "name": "stdout",
     "output_type": "stream",
     "text": [
      "[15, 14, 13, 12, 11, 10]\n"
     ]
    }
   ],
   "source": [
    "# Reversing a list using reversed()\n",
    "def Reverse(lst):\n",
    "    return [ele for ele in reversed(lst)]\n",
    "      \n",
    "# Driver Code\n",
    "lst = [10, 11, 12, 13, 14, 15]\n",
    "print(Reverse(lst))"
   ]
  },
  {
   "cell_type": "code",
   "execution_count": 19,
   "id": "2d7a1966",
   "metadata": {},
   "outputs": [
    {
     "name": "stdout",
     "output_type": "stream",
     "text": [
      "[15, 14, 13, 12, 11, 10]\n"
     ]
    }
   ],
   "source": [
    "# Reversing a list using reverse()\n",
    "def Reverse(lst):\n",
    "    lst.reverse()\n",
    "    return lst\n",
    "      \n",
    "lst = [10, 11, 12, 13, 14, 15]\n",
    "print(Reverse(lst))\n"
   ]
  },
  {
   "cell_type": "code",
   "execution_count": 20,
   "id": "b3194569",
   "metadata": {},
   "outputs": [
    {
     "name": "stdout",
     "output_type": "stream",
     "text": [
      "[15, 14, 13, 12, 11, 10]\n"
     ]
    }
   ],
   "source": [
    "# Reversing a list using slicing technique\n",
    "def Reverse(lst):\n",
    "    new_lst = lst[::-1]\n",
    "    return new_lst\n",
    "      \n",
    "lst = [10, 11, 12, 13, 14, 15]\n",
    "print(Reverse(lst))"
   ]
  },
  {
   "cell_type": "markdown",
   "id": "fcae020a",
   "metadata": {},
   "source": [
    "### return the length, max, min,count of list \n",
    "len() #print(len(object))\n",
    "max() #print(max(value))\n",
    "min() #print(min(value))\n",
    "count()#list_name.count(object) "
   ]
  },
  {
   "cell_type": "code",
   "execution_count": 22,
   "id": "8fd4ac3f",
   "metadata": {},
   "outputs": [
    {
     "name": "stdout",
     "output_type": "stream",
     "text": [
      "11\n"
     ]
    }
   ],
   "source": [
    "print(len(List))"
   ]
  },
  {
   "cell_type": "code",
   "execution_count": 24,
   "id": "f6d1f9f3",
   "metadata": {},
   "outputs": [
    {
     "name": "stdout",
     "output_type": "stream",
     "text": [
      "100\n"
     ]
    }
   ],
   "source": [
    "print (max( 4,12,43.3,19,100 ) )"
   ]
  },
  {
   "cell_type": "code",
   "execution_count": 25,
   "id": "9c2fdc35",
   "metadata": {},
   "outputs": [
    {
     "name": "stdout",
     "output_type": "stream",
     "text": [
      "4\n"
     ]
    }
   ],
   "source": [
    "print (min( 4,12,43.3,19,100 ) )"
   ]
  },
  {
   "cell_type": "code",
   "execution_count": 26,
   "id": "14d3cba2",
   "metadata": {},
   "outputs": [
    {
     "data": {
      "text/plain": [
       "2"
      ]
     },
     "execution_count": 26,
     "metadata": {},
     "output_type": "execute_result"
    }
   ],
   "source": [
    "List.count(10) "
   ]
  },
  {
   "cell_type": "markdown",
   "id": "1c7aa0d3",
   "metadata": {},
   "source": [
    "### merge the two list\n",
    "concatenate\n",
    "Method #1 : Using Naive Method\n",
    "Method #2 : Using + operator"
   ]
  },
  {
   "cell_type": "code",
   "execution_count": 29,
   "id": "8c912cd8",
   "metadata": {},
   "outputs": [
    {
     "name": "stdout",
     "output_type": "stream",
     "text": [
      "[1, 4, 5, 6, 5, 3, 5, 7, 2, 5]\n",
      "[1, 4, 5, 6, 5, 3, 5, 7, 2, 5, 3, 5, 7, 2, 5]\n"
     ]
    }
   ],
   "source": [
    "# Initializing lists\n",
    "test_list1 = [1, 4, 5, 6, 5]\n",
    "test_list2 = [3, 5, 7, 2, 5]\n",
    "  \n",
    "# using naive method to concat\n",
    "for i in test_list2 :\n",
    "    test_list1.append(i)\n",
    "print (str(test_list1))\n",
    "# using + operator to concat\n",
    "test_list3 = test_list1 + test_list2\n",
    "print (str(test_list3))"
   ]
  },
  {
   "cell_type": "markdown",
   "id": "241d9baa",
   "metadata": {},
   "source": [
    "### Multiply two list\n",
    "Method #1 : Naive Method\n",
    "Method #2 : Using List Comprehension"
   ]
  },
  {
   "cell_type": "code",
   "execution_count": 32,
   "id": "33a41357",
   "metadata": {},
   "outputs": [
    {
     "name": "stdout",
     "output_type": "stream",
     "text": [
      "[4, 15, 24, 12, 80]\n"
     ]
    }
   ],
   "source": [
    "test_list1 = [1, 3, 4, 6, 8]\n",
    "test_list2 = [4, 5, 6, 2, 10]\n",
    "\n",
    "res_list = []\n",
    "for i in range(0, len(test_list1)):\n",
    "    res_list.append(test_list1[i] * test_list2[i])\n",
    "print(str(res_list))"
   ]
  },
  {
   "cell_type": "code",
   "execution_count": 33,
   "id": "b2cae37b",
   "metadata": {},
   "outputs": [],
   "source": [
    "# Multiplying two lists\n",
    "res_list = [test_list1[i] * test_list2[i] for i in range(len(test_list1))]"
   ]
  },
  {
   "cell_type": "code",
   "execution_count": 34,
   "id": "e8462498",
   "metadata": {},
   "outputs": [
    {
     "name": "stdout",
     "output_type": "stream",
     "text": [
      "[4, 15, 24, 12, 80]\n"
     ]
    }
   ],
   "source": [
    "print(str(res_list))"
   ]
  },
  {
   "cell_type": "markdown",
   "id": "816ef71d",
   "metadata": {},
   "source": [
    "### ascending order\n",
    "sort #List_name.sort()"
   ]
  },
  {
   "cell_type": "code",
   "execution_count": 36,
   "id": "4008d1b1",
   "metadata": {},
   "outputs": [],
   "source": [
    "List=[10,2,8,5,6,1,-2]\n",
    "List.sort()"
   ]
  },
  {
   "cell_type": "code",
   "execution_count": 37,
   "id": "e163344a",
   "metadata": {},
   "outputs": [
    {
     "name": "stdout",
     "output_type": "stream",
     "text": [
      "[-2, 1, 2, 5, 6, 8, 10]\n"
     ]
    }
   ],
   "source": [
    "print(List)"
   ]
  },
  {
   "cell_type": "markdown",
   "id": "c37a9ab5",
   "metadata": {},
   "source": [
    "### clear a list \n",
    "clear()# lisrname.clear()"
   ]
  },
  {
   "cell_type": "code",
   "execution_count": 38,
   "id": "5613dcbe",
   "metadata": {},
   "outputs": [
    {
     "name": "stdout",
     "output_type": "stream",
     "text": [
      "[6, 0, 4, 1]\n"
     ]
    }
   ],
   "source": [
    "G = [6, 0, 4, 1]\n",
    "print(G) "
   ]
  },
  {
   "cell_type": "code",
   "execution_count": 40,
   "id": "23b27657",
   "metadata": {},
   "outputs": [
    {
     "name": "stdout",
     "output_type": "stream",
     "text": [
      "[]\n"
     ]
    }
   ],
   "source": [
    "G.clear()\n",
    "print(G) "
   ]
  },
  {
   "cell_type": "code",
   "execution_count": null,
   "id": "101d774f",
   "metadata": {},
   "outputs": [],
   "source": []
  }
 ],
 "metadata": {
  "kernelspec": {
   "display_name": "Python 3",
   "language": "python",
   "name": "python3"
  },
  "language_info": {
   "codemirror_mode": {
    "name": "ipython",
    "version": 3
   },
   "file_extension": ".py",
   "mimetype": "text/x-python",
   "name": "python",
   "nbconvert_exporter": "python",
   "pygments_lexer": "ipython3",
   "version": "3.8.8"
  }
 },
 "nbformat": 4,
 "nbformat_minor": 5
}
