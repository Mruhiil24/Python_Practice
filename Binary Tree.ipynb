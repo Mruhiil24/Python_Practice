{
 "cells": [
  {
   "cell_type": "code",
   "execution_count": 7,
   "id": "17e6e0c5",
   "metadata": {},
   "outputs": [],
   "source": [
    "class BinaryTreeNode:\n",
    "    def __init__(self,data):\n",
    "        self.data = data\n",
    "        self.left = None\n",
    "        self.right =None"
   ]
  },
  {
   "cell_type": "code",
   "execution_count": 8,
   "id": "49b68050",
   "metadata": {},
   "outputs": [],
   "source": [
    "# create a function to print tree\n",
    "def printTree(root):\n",
    "    if root ==None:\n",
    "        return\n",
    "    print(root.data)\n",
    "    printTree(root.left)\n",
    "    printTree(root.right)\n",
    "    "
   ]
  },
  {
   "cell_type": "code",
   "execution_count": 9,
   "id": "f42a7e5a",
   "metadata": {},
   "outputs": [],
   "source": [
    "# create a function to print tree\n",
    "def printTreeDeatiled(root):\n",
    "    if root ==None:\n",
    "        return\n",
    "    print(root.data,end = \":\")\n",
    "    if root.left != None:\n",
    "        print('L',root.left.data, end = ',')\n",
    "    if root.right != None:\n",
    "        print('R',root.right.data, end=\" \")\n",
    "    print()\n",
    "    printTreeDeatiled(root.left)\n",
    "    printTreeDeatiled(root.right)\n",
    "    "
   ]
  },
  {
   "cell_type": "code",
   "execution_count": 10,
   "id": "9d1812ae",
   "metadata": {},
   "outputs": [],
   "source": [
    "#create tree using node\n",
    "btn1=BinaryTreeNode(1)\n",
    "btn2=BinaryTreeNode(2)\n",
    "btn3=BinaryTreeNode(3)\n",
    "\n",
    "btn4=BinaryTreeNode(4)\n",
    "btn5=BinaryTreeNode(5)"
   ]
  },
  {
   "cell_type": "code",
   "execution_count": 11,
   "id": "c38b0246",
   "metadata": {},
   "outputs": [],
   "source": [
    "# make the child of tree\n",
    "btn1.left=btn2\n",
    "btn1.right=btn3\n",
    "btn2.left=btn4\n",
    "btn2.right=btn5"
   ]
  },
  {
   "cell_type": "code",
   "execution_count": 12,
   "id": "1654c371",
   "metadata": {},
   "outputs": [
    {
     "name": "stdout",
     "output_type": "stream",
     "text": [
      "1:L 2,R 3 \n",
      "2:L 4,R 5 \n",
      "4:\n",
      "5:\n",
      "3:\n"
     ]
    }
   ],
   "source": [
    "printTreeDeatiled(btn1)"
   ]
  },
  {
   "cell_type": "code",
   "execution_count": 13,
   "id": "75229c4f",
   "metadata": {},
   "outputs": [],
   "source": [
    "#input of binary tree from a user \n",
    "def treeInput():\n",
    "    rootdata = int(input())\n",
    "    if rootdata == -1:\n",
    "        return None\n",
    "    \n",
    "    root =  BinaryTreeNode(rootdata)\n",
    "    \n",
    "    lefttree=treeInput()\n",
    "    righttree=treeInput()\n",
    "    root.left = lefttree\n",
    "    root.right= righttree\n",
    "    return root"
   ]
  },
  {
   "cell_type": "code",
   "execution_count": null,
   "id": "b60957a6",
   "metadata": {},
   "outputs": [],
   "source": [
    "import queue\n",
    "def takelevelwiseTreeInput():\n",
    "    q=queue.Queue()\n",
    "    print(\"Enter root\")\n",
    "    rootData = int(input())\n",
    "    if (rootData==-1):\n",
    "        return None\n",
    "    root =  BinaryTreeNode(rootdata)\n",
    "    q.put(root)\n",
    "    while (not(q.empty())):\n",
    "        current_node = q.get()\n",
    "        print(\"Enter left child of \", current_node.data)\n",
    "        leftchildData=int(input())\n",
    "        if leftchildData!= -1:\n",
    "            leftchild=BinaryTreeNode(leftchildData)\n",
    "            current_node.left = leftchild\n",
    "            q.put(leftchild)\n",
    "            \n",
    "        print(\"Enter right child of \", current_node.data)\n",
    "        rightchildData=int(input())\n",
    "        if rightchildData!= -1:\n",
    "            rightchild=BinaryTreeNode(rightchildData)\n",
    "            current_node.right = rightchild\n",
    "            q.put(rightchild)"
   ]
  },
  {
   "cell_type": "code",
   "execution_count": 14,
   "id": "304eaff7",
   "metadata": {},
   "outputs": [],
   "source": [
    "def numNode(root):\n",
    "    if root == None:\n",
    "        return 0\n",
    "    left_count = numNode(root.left)\n",
    "    right_count = numNode(root.right)\n",
    "    return 1 +left_count + right_count"
   ]
  },
  {
   "cell_type": "code",
   "execution_count": 15,
   "id": "4a2f6552",
   "metadata": {},
   "outputs": [],
   "source": [
    "def largestdata(root):\n",
    "    if root == None:\n",
    "        return -1 #ideally  return infinity\n",
    "    left_lar=largestdata(root.left)\n",
    "    right_lar = largestdata(root.right)\n",
    "    largest=max(left_lar, right_lar,root.data)\n",
    "    return largest"
   ]
  },
  {
   "cell_type": "code",
   "execution_count": 16,
   "id": "0541f586",
   "metadata": {},
   "outputs": [],
   "source": [
    "def numleafNodes(root):\n",
    "    if root == None:\n",
    "        return 0\n",
    "    if root.left == None and root.right == None:\n",
    "        return 1\n",
    "    numleafleft = numleafNodes(root.left)\n",
    "    numleafright = numleafNodes(root.right)\n",
    "    return numleafleft+numleafright"
   ]
  },
  {
   "cell_type": "code",
   "execution_count": 17,
   "id": "77be593d",
   "metadata": {},
   "outputs": [],
   "source": [
    "def removeleaves(root):\n",
    "    if root == None:\n",
    "        return None\n",
    "    if root.left==None and root.right==None:\n",
    "        return None\n",
    "    root.left=removeleaves(root.left)\n",
    "    root.right=removeleaves(root.left)\n",
    "    return root"
   ]
  },
  {
   "cell_type": "code",
   "execution_count": 18,
   "id": "b8a76387",
   "metadata": {},
   "outputs": [],
   "source": [
    "def height(root):\n",
    "    if root== None:\n",
    "        return 0\n",
    "    return 1+ max(height(root.left),height(root.right))"
   ]
  },
  {
   "cell_type": "code",
   "execution_count": 19,
   "id": "1374eb3c",
   "metadata": {},
   "outputs": [],
   "source": [
    "def Isbalanced(root):\n",
    "    if root==None:\n",
    "        return True\n",
    "    lh=height(root.left)\n",
    "    rh=height(root.right)\n",
    "    if lh-rh>1 or rh-lh>1:\n",
    "        return False\n",
    "    Isleftbalanced=Isbalanced(root.left)\n",
    "    Isrightbalanced=Isbalanced(root.left)\n",
    "    if Isleftbalanced and Isrightbalanced:\n",
    "        return True\n",
    "    else:\n",
    "        return False"
   ]
  },
  {
   "cell_type": "code",
   "execution_count": 22,
   "id": "bb7a5fdf",
   "metadata": {},
   "outputs": [],
   "source": [
    "def getHeightandCheckBalanced(root):\n",
    "    if root== None:\n",
    "        return 0,True\n",
    "    lh,Isleftbalanced=getHeightandCheckBalanced(root.left)\n",
    "    rh,Isrightbalanced=getHeightandCheckBalanced(root.right)\n",
    "    h = 1+max(lh,rh)\n",
    "    if lh-rh>1 or rh-lh>1:\n",
    "        return h,False\n",
    "    if Isleftbalanced and Isrightbalanced:\n",
    "        return h,True\n",
    "    else:\n",
    "        return h,False\n",
    "    "
   ]
  },
  {
   "cell_type": "code",
   "execution_count": 23,
   "id": "d6f6c252",
   "metadata": {},
   "outputs": [
    {
     "name": "stdout",
     "output_type": "stream",
     "text": [
      "1\n",
      "2\n",
      "4\n",
      "5\n",
      "-1\n",
      "-1\n",
      "-1\n",
      "-1\n",
      "3\n",
      "-1\n",
      "6\n",
      "-1\n",
      "-1\n",
      "1:L 2,R 3 \n",
      "2:L 4,\n",
      "4:L 5,\n",
      "5:\n",
      "3:R 6 \n",
      "6:\n",
      "(4, False)\n"
     ]
    }
   ],
   "source": [
    "root = treeInput()\n",
    "printTreeDeatiled(root)\n",
    "print(getHeightandCheckBalanced(root))"
   ]
  },
  {
   "cell_type": "code",
   "execution_count": null,
   "id": "9941bab6",
   "metadata": {},
   "outputs": [],
   "source": []
  },
  {
   "cell_type": "code",
   "execution_count": null,
   "id": "9259173e",
   "metadata": {},
   "outputs": [],
   "source": []
  },
  {
   "cell_type": "code",
   "execution_count": null,
   "id": "52e70a51",
   "metadata": {},
   "outputs": [],
   "source": []
  }
 ],
 "metadata": {
  "kernelspec": {
   "display_name": "Python 3",
   "language": "python",
   "name": "python3"
  },
  "language_info": {
   "codemirror_mode": {
    "name": "ipython",
    "version": 3
   },
   "file_extension": ".py",
   "mimetype": "text/x-python",
   "name": "python",
   "nbconvert_exporter": "python",
   "pygments_lexer": "ipython3",
   "version": "3.8.8"
  }
 },
 "nbformat": 4,
 "nbformat_minor": 5
}
