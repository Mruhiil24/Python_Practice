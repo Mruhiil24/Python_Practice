{
 "cells": [
  {
   "cell_type": "markdown",
   "id": "89c06053-f944-4b8e-a569-b8b2b6ea1201",
   "metadata": {},
   "source": [
    "### Square Pattern "
   ]
  },
  {
   "cell_type": "code",
   "execution_count": 1,
   "id": "2215c9e5-1bb8-4295-9637-5f3f7c2e9488",
   "metadata": {},
   "outputs": [
    {
     "name": "stdin",
     "output_type": "stream",
     "text": [
      " 4\n"
     ]
    },
    {
     "name": "stdout",
     "output_type": "stream",
     "text": [
      "4444\n",
      "4444\n",
      "4444\n",
      "4444\n"
     ]
    }
   ],
   "source": [
    "n = int(input())\n",
    "i = 1\n",
    "while i <= n:\n",
    "    j = 1\n",
    "    while j <= n:\n",
    "        print(n,end= '')\n",
    "        j = j+1\n",
    "    print()\n",
    "    i = i +1\n",
    "    "
   ]
  },
  {
   "cell_type": "markdown",
   "id": "2c5cfa91-8eb5-44e5-a22c-21088c10d470",
   "metadata": {},
   "source": [
    "### Triangular Star Pattern "
   ]
  },
  {
   "cell_type": "code",
   "execution_count": 2,
   "id": "2cc9a78f-0bd5-4c27-8c19-be42edb65a62",
   "metadata": {},
   "outputs": [
    {
     "name": "stdin",
     "output_type": "stream",
     "text": [
      " 4\n"
     ]
    },
    {
     "name": "stdout",
     "output_type": "stream",
     "text": [
      "*\n",
      "**\n",
      "***\n",
      "****\n"
     ]
    }
   ],
   "source": [
    "n = int (input())\n",
    "i = 1 \n",
    "while i <=n :\n",
    "    j = 1\n",
    "    while j<= i:\n",
    "        print(\"*\", end = \"\")\n",
    "        j = j+1\n",
    "    print()\n",
    "    i = i+1\n",
    "    "
   ]
  },
  {
   "cell_type": "markdown",
   "id": "2864ca1e-a20d-4dd5-bb31-fd47cc792a2c",
   "metadata": {},
   "source": [
    "### Triangle Number Pattern "
   ]
  },
  {
   "cell_type": "code",
   "execution_count": 3,
   "id": "0c627f12-27a9-4133-bfa0-942f451895c5",
   "metadata": {},
   "outputs": [
    {
     "name": "stdin",
     "output_type": "stream",
     "text": [
      " 5\n"
     ]
    },
    {
     "name": "stdout",
     "output_type": "stream",
     "text": [
      "1\n",
      "22\n",
      "333\n",
      "4444\n",
      "55555\n"
     ]
    }
   ],
   "source": [
    "n = int (input())\n",
    "i = 1\n",
    "while i <= n:\n",
    "    j = 1\n",
    "    p = i\n",
    "    while j <=i:\n",
    "        print(i, end= \"\")\n",
    "        j = j+1\n",
    "    print()\n",
    "    i = i +1"
   ]
  },
  {
   "cell_type": "markdown",
   "id": "4c380f0e-3738-4db6-8bb8-1a72f9218e61",
   "metadata": {},
   "source": [
    "### Reverse Number Pattern "
   ]
  },
  {
   "cell_type": "code",
   "execution_count": 4,
   "id": "b68da440-6bd8-461c-adb0-6d6bdaef67ad",
   "metadata": {},
   "outputs": [
    {
     "name": "stdin",
     "output_type": "stream",
     "text": [
      " 5\n"
     ]
    },
    {
     "name": "stdout",
     "output_type": "stream",
     "text": [
      "1\n",
      "21\n",
      "321\n",
      "4321\n",
      "54321\n"
     ]
    }
   ],
   "source": [
    "n = int (input())\n",
    "i = 1\n",
    "while i <= n:\n",
    "    j = 1\n",
    "    p = i\n",
    "    while j <=i:\n",
    "        print(p, end= \"\")\n",
    "        p = p -1\n",
    "        j = j+1\n",
    "    print()\n",
    "    i = i +1"
   ]
  },
  {
   "cell_type": "markdown",
   "id": "74f95b26-00c3-4619-81e3-1a1ca34b9a52",
   "metadata": {},
   "source": [
    "### Character Pattern "
   ]
  },
  {
   "cell_type": "code",
   "execution_count": 5,
   "id": "c8bba444-7504-4d73-88b6-84e1dd801f0e",
   "metadata": {},
   "outputs": [
    {
     "name": "stdin",
     "output_type": "stream",
     "text": [
      " 4\n"
     ]
    },
    {
     "name": "stdout",
     "output_type": "stream",
     "text": [
      "A\n",
      "BC\n",
      "CDE\n",
      "DEFG\n"
     ]
    }
   ],
   "source": [
    "n = int (input())\n",
    "i = 1\n",
    "while i <=n:\n",
    "    j=1\n",
    "    char = ord('A') + i- 1\n",
    "    while j<=i:\n",
    "        charP= chr(char +j-1)\n",
    "        print(charP, end = \"\")\n",
    "        j+=1\n",
    "    i= i+1\n",
    "    print()"
   ]
  },
  {
   "cell_type": "markdown",
   "id": "55c2cead-01d7-4b67-9fce-aaef8f197fc3",
   "metadata": {},
   "source": [
    "### Interesting Alphabets "
   ]
  },
  {
   "cell_type": "code",
   "execution_count": 6,
   "id": "acaeec23-2093-45cf-af78-ac59dc5260f8",
   "metadata": {},
   "outputs": [
    {
     "name": "stdin",
     "output_type": "stream",
     "text": [
      " 4\n"
     ]
    },
    {
     "name": "stdout",
     "output_type": "stream",
     "text": [
      "D\n",
      "CD\n",
      "BCD\n",
      "ABCD\n"
     ]
    }
   ],
   "source": [
    "n = int (input())\n",
    "i = 1\n",
    "while i <=n:\n",
    "    j=1\n",
    "    char = ord('A') + n- i\n",
    "    while j<=i:\n",
    "        print((chr(char +j-1)), end = \"\")\n",
    "        j+=1  \n",
    "    i= i+1\n",
    "    print()\n",
    "    "
   ]
  },
  {
   "cell_type": "markdown",
   "id": "3486b3f0-7cbb-45d6-a584-bb1b866156a3",
   "metadata": {},
   "source": [
    "### pattern 1\n",
    "1\n",
    "11\n",
    "111\n",
    "1111"
   ]
  },
  {
   "cell_type": "code",
   "execution_count": 7,
   "id": "f3cbb652-98ec-4d2a-a8c7-a412921ab998",
   "metadata": {},
   "outputs": [
    {
     "name": "stdin",
     "output_type": "stream",
     "text": [
      " 4\n"
     ]
    },
    {
     "name": "stdout",
     "output_type": "stream",
     "text": [
      "1\n",
      "11\n",
      "111\n",
      "1111\n"
     ]
    }
   ],
   "source": [
    "n = int(input())\n",
    "i = 1\n",
    "while i<=n:\n",
    "    j =1 \n",
    "    while j<=i:\n",
    "        print(1, end=\"\")\n",
    "        j = j+1\n",
    "    print()\n",
    "    i = i+1"
   ]
  },
  {
   "cell_type": "markdown",
   "id": "5f940957-b473-46f8-8cda-91deaf089e88",
   "metadata": {},
   "source": [
    "### Pattern 2\n",
    "1\n",
    "11\n",
    "202\n",
    "3003"
   ]
  },
  {
   "cell_type": "code",
   "execution_count": 8,
   "id": "88c63be5-c676-4291-b020-ea217f2de40f",
   "metadata": {},
   "outputs": [
    {
     "name": "stdin",
     "output_type": "stream",
     "text": [
      " 5\n"
     ]
    },
    {
     "name": "stdout",
     "output_type": "stream",
     "text": [
      "1\n",
      "11\n",
      "202\n",
      "3003\n",
      "40004\n"
     ]
    }
   ],
   "source": [
    "n = int(input())\n",
    "print(1)\n",
    "i = 1\n",
    "while (i < n):\n",
    "    j=0\n",
    "    while (j< i+1):\n",
    "        if (j ==0 or j ==i):\n",
    "        \tprint(i, end=\"\")\n",
    "        else:\n",
    "        \tprint(0,end='')\n",
    "        j = j+1\n",
    "    print()\n",
    "    i = i+1"
   ]
  },
  {
   "cell_type": "markdown",
   "id": "bc1b9b6e-5d34-421b-a6c9-b39fb50f1463",
   "metadata": {},
   "source": [
    "### pattern 3\n",
    "1\n",
    "11\n",
    "121\n",
    "1221"
   ]
  },
  {
   "cell_type": "code",
   "execution_count": 9,
   "id": "a341bffb-94bc-4f44-9b5c-7df65b4437fa",
   "metadata": {},
   "outputs": [
    {
     "name": "stdin",
     "output_type": "stream",
     "text": [
      " 4\n"
     ]
    },
    {
     "name": "stdout",
     "output_type": "stream",
     "text": [
      "1\n",
      "11\n",
      "121\n",
      "1221\n"
     ]
    }
   ],
   "source": [
    "n = int(input())\n",
    "i = 0\n",
    "while (i<n):\n",
    "    j=0\n",
    "    while (j< i+1):\n",
    "        if (j ==0 or j ==i):\n",
    "        \tprint(1, end=\"\")\n",
    "        else:\n",
    "        \tprint(2,end='')\n",
    "        j = j+1\n",
    "    print()\n",
    "    i = i+1"
   ]
  },
  {
   "cell_type": "markdown",
   "id": "222c81dd-92b5-4a2b-8007-053e2f97277e",
   "metadata": {},
   "source": [
    "### Pattern 4\n",
    "1234\n",
    "123\n",
    "12\n",
    "1"
   ]
  },
  {
   "cell_type": "code",
   "execution_count": 10,
   "id": "ab57923d-6c44-4c0f-8c17-79b06d4d1d95",
   "metadata": {},
   "outputs": [
    {
     "name": "stdin",
     "output_type": "stream",
     "text": [
      " 4\n"
     ]
    },
    {
     "name": "stdout",
     "output_type": "stream",
     "text": [
      "1234\n",
      "123\n",
      "12\n",
      "1\n"
     ]
    }
   ],
   "source": [
    "n = int (input())\n",
    "i = 0\n",
    "while i < n:\n",
    "    j = 1\n",
    "    while j< (n-i)+1:\n",
    "        print(j, end=\"\")\n",
    "        j= j+1\n",
    "    i=i+1\n",
    "    print()"
   ]
  },
  {
   "cell_type": "markdown",
   "id": "ae4b5617-7602-4e72-9d9c-063898715ee7",
   "metadata": {},
   "source": [
    "### Alpha Pattern\n",
    " A\n",
    " BB\n",
    " CCC"
   ]
  },
  {
   "cell_type": "code",
   "execution_count": 11,
   "id": "21201da2-50fd-40c4-b8ea-1bdf3b78dc1c",
   "metadata": {},
   "outputs": [
    {
     "name": "stdin",
     "output_type": "stream",
     "text": [
      " 5\n"
     ]
    },
    {
     "name": "stdout",
     "output_type": "stream",
     "text": [
      "A\n",
      "BB\n",
      "CCC\n",
      "DDDD\n",
      "EEEEE\n"
     ]
    }
   ],
   "source": [
    "n= int (input())\n",
    "i = 1\n",
    "while i <= n:\n",
    "    j= 1\n",
    "    ch = ord('A')+ i-1\n",
    "    while j<=i :\n",
    "        c = chr(ch)\n",
    "        print(c, end=\"\")\n",
    "        j+=1\n",
    "    i+=1\n",
    "    ch+=1\n",
    "    print()"
   ]
  },
  {
   "cell_type": "markdown",
   "id": "58e5d079-b053-4e0d-8b80-5f12e350d2fe",
   "metadata": {},
   "source": [
    "### Inverted Number Pattern\n",
    "4444\n",
    "333\n",
    "22\n",
    "1\n"
   ]
  },
  {
   "cell_type": "code",
   "execution_count": 12,
   "id": "86fa88ba-81f4-4d57-9857-463212babc14",
   "metadata": {},
   "outputs": [
    {
     "name": "stdin",
     "output_type": "stream",
     "text": [
      " 4\n"
     ]
    },
    {
     "name": "stdout",
     "output_type": "stream",
     "text": [
      "4444\n",
      "333\n",
      "22\n",
      "1\n"
     ]
    }
   ],
   "source": [
    "n = int(input())\n",
    "row =1\n",
    "while row<=n:\n",
    "    col=1\n",
    "    while col<=n-row+1:\n",
    "        print(n-row+1,end=\"\")\n",
    "        col+=1\n",
    "    row+=1\n",
    "    print()"
   ]
  },
  {
   "cell_type": "markdown",
   "id": "f88edf65-061f-4790-aed6-5030f36a53f6",
   "metadata": {},
   "source": [
    "### Mirror Number Pattern\n",
    "   1\n",
    "  22\n",
    " 123\n",
    "1234\n"
   ]
  },
  {
   "cell_type": "code",
   "execution_count": 13,
   "id": "3dbca473-c2e5-41ce-90d5-84884d8c0e1e",
   "metadata": {},
   "outputs": [
    {
     "name": "stdin",
     "output_type": "stream",
     "text": [
      " 6\n"
     ]
    },
    {
     "name": "stdout",
     "output_type": "stream",
     "text": [
      "     1\n",
      "    12\n",
      "   123\n",
      "  1234\n",
      " 12345\n",
      "123456\n"
     ]
    }
   ],
   "source": [
    "n = int(input())\n",
    "row= 1\n",
    "while row<=n:\n",
    "    spaces = 1\n",
    "    while spaces<=n-row:\n",
    "        print(\" \",end=\"\")\n",
    "        spaces+=1\n",
    "    col = 1\n",
    "    while col<=row:\n",
    "        print(col,end=\"\")\n",
    "        col+=1\n",
    "    row+=1\n",
    "    print()"
   ]
  },
  {
   "cell_type": "markdown",
   "id": "5f346ac9-5cd5-408f-abb5-665a509a5c91",
   "metadata": {},
   "source": [
    "### Star Pattern \n",
    "   *\n",
    "  ***\n",
    " *****\n",
    "*******"
   ]
  },
  {
   "cell_type": "code",
   "execution_count": 14,
   "id": "b257be60-85d0-4349-b03c-9a4ae8a1e979",
   "metadata": {},
   "outputs": [
    {
     "name": "stdin",
     "output_type": "stream",
     "text": [
      " 4\n"
     ]
    },
    {
     "name": "stdout",
     "output_type": "stream",
     "text": [
      "   *\n",
      "  ***\n",
      " *****\n",
      "*******\n"
     ]
    }
   ],
   "source": [
    "n = int (input())\n",
    "i =1\n",
    "while i <=n:\n",
    "    spaces = 1\n",
    "    while spaces <=(n-i):\n",
    "        print (\" \", end = \"\")\n",
    "        spaces +=1\n",
    "    j = 1\n",
    "    while j<=((2*i)-1):\n",
    "        print('*', end=\"\")\n",
    "        j+=1\n",
    "    print()\n",
    "    i+=1\n",
    "        "
   ]
  },
  {
   "cell_type": "markdown",
   "id": "46254260-3495-476f-ba0d-f9920aac9f1e",
   "metadata": {},
   "source": [
    "### Triangle of Numbers\n",
    "   1\n",
    "  232\n",
    " 34543\n",
    "4567654\n"
   ]
  },
  {
   "cell_type": "code",
   "execution_count": 15,
   "id": "7da30624-4b87-4d49-b648-5acc995724b3",
   "metadata": {},
   "outputs": [
    {
     "name": "stdin",
     "output_type": "stream",
     "text": [
      " 4\n"
     ]
    },
    {
     "name": "stdout",
     "output_type": "stream",
     "text": [
      "   1\n",
      "  232\n",
      " 34543\n",
      "4567654\n"
     ]
    }
   ],
   "source": [
    "n=int(input())\n",
    "i=1\n",
    "while i<=n:\n",
    "    s=1\n",
    "    while s<=n-i:\n",
    "        print(\" \", end='')\n",
    "        s=s+1\n",
    "    j=1\n",
    "    p=i\n",
    "    while j<=i:\n",
    "        print(p, end=\"\")\n",
    "        j+=1\n",
    "        p+=1\n",
    "    j=i-1\n",
    "    q=(2*i)-2\n",
    "    while j>=1:\n",
    "        print(q, end=\"\")\n",
    "        j-=1\n",
    "        q-=1\n",
    "    print()\n",
    "    i+=1"
   ]
  },
  {
   "cell_type": "markdown",
   "id": "b5d68459-6919-4308-9aed-6110bf5df8c4",
   "metadata": {},
   "source": [
    "### Diamond of stars \n",
    "  *\n",
    " ***\n",
    "*****\n",
    " ***\n",
    "  *"
   ]
  },
  {
   "cell_type": "code",
   "execution_count": 16,
   "id": "5010af9c-bf25-49e7-b13f-779dfc9cd79a",
   "metadata": {},
   "outputs": [
    {
     "name": "stdin",
     "output_type": "stream",
     "text": [
      " 5\n"
     ]
    },
    {
     "name": "stdout",
     "output_type": "stream",
     "text": [
      "  *\n",
      " ***\n",
      "*****\n",
      " ***\n",
      "  *\n"
     ]
    }
   ],
   "source": [
    "n=int(input())\n",
    "n1=(n+1)/2\n",
    "n2=n-n1\n",
    "i=1\n",
    "while i<=n1:#corrected\n",
    "    s=1\n",
    "    while s<=n1-i:\n",
    "        print(\" \",end=\"\")\n",
    "        s=s+1\n",
    "    j=1\n",
    "    while j<=2*i-1:\n",
    "        print(\"*\",end=\"\")\n",
    "        j+=1\n",
    "    print()\n",
    "    i=i+1\n",
    "i=n2\n",
    "while i>=1:#corrected\n",
    "    s=1\n",
    "    while s<=n2-i+1:#corrected\n",
    "        print(\" \",end=\"\")\n",
    "        s=s+1\n",
    "    j=1\n",
    "    while j<=2*i-1:\n",
    "        print(\"*\",end=\"\")\n",
    "        j+=1\n",
    "    print()\n",
    "    i = i-1"
   ]
  },
  {
   "cell_type": "markdown",
   "id": "e0fd4b61-66a7-41f4-b108-eb61b0389115",
   "metadata": {},
   "source": [
    "### Number Pattern \n",
    "1        1\n",
    "12      21\n",
    "123    321\n",
    "1234  4321\n",
    "1234554321"
   ]
  },
  {
   "cell_type": "code",
   "execution_count": 17,
   "id": "65035df1-12ac-447b-8fa1-253ad6d4fb75",
   "metadata": {},
   "outputs": [
    {
     "name": "stdin",
     "output_type": "stream",
     "text": [
      " 5\n"
     ]
    },
    {
     "name": "stdout",
     "output_type": "stream",
     "text": [
      "1        1\n",
      "12      21\n",
      "123    321\n",
      "1234  4321\n",
      "1234554321\n"
     ]
    }
   ],
   "source": [
    "num = int(input())\n",
    "row =1\n",
    "t_space=2*num-2\n",
    "while row<=num:\n",
    "    col=1\n",
    "    while col<=row:\n",
    "        print(col, end=\"\")\n",
    "        col+=1\n",
    "    s=1  \n",
    "    while s<=t_space:\n",
    "        print(\" \",end=\"\")\n",
    "        s+=1\n",
    "    t_space -=2\n",
    "    col = row\n",
    "    while col>0:\n",
    "        print(col, end=\"\")\n",
    "        col-=1\n",
    "    row+=1\n",
    "    print()"
   ]
  },
  {
   "cell_type": "markdown",
   "id": "726a83ec-2908-4f7c-932e-5cc53a5627be",
   "metadata": {},
   "source": [
    "### Zeros and Stars Pattern\n",
    "*000*000*\n",
    "0*00*00*0\n",
    "00*0*0*00\n",
    "000***000"
   ]
  },
  {
   "cell_type": "code",
   "execution_count": null,
   "id": "955d1f4b-e0b5-460d-a602-b8b1f395b16d",
   "metadata": {},
   "outputs": [],
   "source": []
  },
  {
   "cell_type": "markdown",
   "id": "70fec6d3-4e96-4781-b91a-2593550d1e84",
   "metadata": {},
   "source": [
    "#### Pyramid Number Pattern \n",
    "   1\n",
    "  212\n",
    " 32123\n",
    "4321234"
   ]
  },
  {
   "cell_type": "code",
   "execution_count": 1,
   "id": "d70f134f-e43d-48f0-8745-1553707e8dc2",
   "metadata": {},
   "outputs": [
    {
     "name": "stdin",
     "output_type": "stream",
     "text": [
      " 5\n"
     ]
    },
    {
     "name": "stdout",
     "output_type": "stream",
     "text": [
      "    1\n",
      "   212\n",
      "  32123\n",
      " 4321234\n",
      "543212345\n"
     ]
    }
   ],
   "source": [
    "n=int(input())\n",
    "i=1\n",
    "while i<=n:\n",
    "    s=n-i\n",
    "    while s>0:\n",
    "        print(\" \", end='')\n",
    "        s=s-1\n",
    "    p=i\n",
    "    while p>0:\n",
    "        print(p, end=\"\")\n",
    "        p = p-1\n",
    "    p = p+2\n",
    "    while p<=i:\n",
    "        print(p, end=\"\")\n",
    "        p+=1\n",
    "    print()\n",
    "    i+=1"
   ]
  },
  {
   "cell_type": "markdown",
   "id": "138fe0f0-bead-4e8f-9421-fae5508bd51a",
   "metadata": {},
   "source": [
    "### Arrow pattern \n",
    "*\n",
    " * *\n",
    "  * * *\n",
    "   * * * *\n",
    "  * * *\n",
    " * *\n",
    "*\n",
    "\n"
   ]
  },
  {
   "cell_type": "code",
   "execution_count": 2,
   "id": "a0ffb638-7c85-49b5-ba9e-9bfbc5522729",
   "metadata": {},
   "outputs": [
    {
     "name": "stdin",
     "output_type": "stream",
     "text": [
      " 9\n"
     ]
    },
    {
     "name": "stdout",
     "output_type": "stream",
     "text": [
      "* \n",
      " * * \n",
      "  * * * \n",
      "   * * * * \n",
      "    * * * * * \n",
      "   * * * * \n",
      "  * * * \n",
      " * * \n",
      "* \n"
     ]
    }
   ],
   "source": [
    "num= int(input())\n",
    "n1=(num+1)/2\n",
    "n2=num/2\n",
    "i= 1\n",
    "#first Half\n",
    "while i<=n1:\n",
    "    s=1\n",
    "    while s<=i-1:\n",
    "        print(' ',end=\"\")\n",
    "        s+=1\n",
    "    j=1\n",
    "    while j<=i:\n",
    "        print('*',end=\" \")\n",
    "        j+=1\n",
    "    i+=1\n",
    "    print()\n",
    "# second Half\n",
    "i=1\n",
    "while i<=n2:\n",
    "    s=1\n",
    "    while s<=n2-i:\n",
    "        print(' ',end=\"\")\n",
    "        s+=1\n",
    "    j=1\n",
    "    while j<=(n2-i+1):\n",
    "        print('*',end=\" \")\n",
    "        j+=1\n",
    "    i+=1\n",
    "    print()"
   ]
  },
  {
   "cell_type": "code",
   "execution_count": null,
   "id": "16b649a3-3b88-49bb-96e8-459f166a0048",
   "metadata": {},
   "outputs": [],
   "source": []
  }
 ],
 "metadata": {
  "kernelspec": {
   "display_name": "Python 3",
   "language": "python",
   "name": "python3"
  },
  "language_info": {
   "codemirror_mode": {
    "name": "ipython",
    "version": 3
   },
   "file_extension": ".py",
   "mimetype": "text/x-python",
   "name": "python",
   "nbconvert_exporter": "python",
   "pygments_lexer": "ipython3",
   "version": "3.8.8"
  }
 },
 "nbformat": 4,
 "nbformat_minor": 5
}
